{
 "cells": [
  {
   "cell_type": "markdown",
   "id": "a60562de",
   "metadata": {},
   "source": [
    "# Load & resize photos banchmark\n",
    "Before running benchmark, download the data from the repository https://github.com/ria-com/nomeroff-net/tree/master/banchmarks/images to the images folder"
   ]
  },
  {
   "cell_type": "code",
   "execution_count": 1,
   "id": "89845aea",
   "metadata": {},
   "outputs": [],
   "source": [
    "import time\n",
    "import os\n",
    "import numpy as np"
   ]
  },
  {
   "cell_type": "code",
   "execution_count": 2,
   "id": "398680f0",
   "metadata": {},
   "outputs": [],
   "source": [
    "dirName = \"./images\"\n",
    "testData = {\n",
    "    \"0.jpeg\": [\"AI5255EI\"],\n",
    "    \"1.jpeg\": [\"AT6883CM\"],\n",
    "    \"2.jpeg\": [\"AT1515CK\"],\n",
    "    \"3.jpeg\": [\"BX0578CE\"],\n",
    "    \"4.jpeg\": [\"AC4249CB\"],\n",
    "    \"5.jpeg\": [\"BC3496HC\"],\n",
    "    \"6.jpeg\": [\"BC3496HC\"],\n",
    "    \"7.jpeg\": [\"AO1306CH\"],\n",
    "    \"8.jpeg\": [\"AE1077CO\"],\n",
    "    \"9.jpeg\": [\"AB3391AK\"],\n",
    "    \"10.jpeg\": [\"BE7425CB\"],\n",
    "    \"11.jpeg\": [\"BE7425CB\"],\n",
    "    \"12.jpeg\": [\"AB0680EA\"],\n",
    "    \"13.jpeg\": [\"AB0680EA\"],\n",
    "    \"14.jpeg\": [\"BM1930BM\"],\n",
    "    \"15.jpeg\": [\"AI1382HB\"],\n",
    "    \"16.jpeg\": [\"AB7333BH\"],\n",
    "    \"17.jpeg\": [\"AB7642CT\"],\n",
    "    \"18.jpeg\": [\"AC4921CB\"],\n",
    "    \"19.jpeg\": [\"BC9911BK\"],\n",
    "    \"20.jpeg\": [\"BC7007AK\"],\n",
    "    \"21.jpeg\": [\"AB5649CI\"],\n",
    "    \"22.jpeg\": [\"AX2756EK\"],\n",
    "    \"23.jpeg\": [\"AA7564MX\"],\n",
    "    \"24.jpeg\": [\"AM5696CK\"],\n",
    "    \"25.jpeg\": [\"AM5696CK\"],\n",
    "}"
   ]
  },
  {
   "cell_type": "code",
   "execution_count": 3,
   "id": "60096413",
   "metadata": {},
   "outputs": [],
   "source": [
    "def print_result(end_time, j):\n",
    "    print(f\"Processed {j} photos\")\n",
    "    print(f\"Time {end_time}\")\n",
    "    print(f\"One photo process {end_time/j} seconds\")"
   ]
  },
  {
   "cell_type": "markdown",
   "id": "908f5f96",
   "metadata": {},
   "source": [
    "### Pillow"
   ]
  },
  {
   "cell_type": "code",
   "execution_count": 4,
   "id": "3f232443",
   "metadata": {},
   "outputs": [
    {
     "name": "stdout",
     "output_type": "stream",
     "text": [
      "Processed 26 photos\n",
      "Time 2.2618298530578613\n",
      "One photo process 0.08699345588684082 seconds\n"
     ]
    }
   ],
   "source": [
    "from PIL import Image\n",
    "\n",
    "i = 0\n",
    "start_time = time.time()\n",
    "for fname in testData.keys():\n",
    "    img_path = os.path.join(dirName, fname)\n",
    "    im = Image.open(img_path)\n",
    "    (width, height) = (im.width // 2, im.height // 2)\n",
    "    img = np.asarray(im.resize((width, height)))\n",
    "    i += 1\n",
    "end_time = time.time() - start_time\n",
    "print_result(end_time, i)"
   ]
  },
  {
   "cell_type": "markdown",
   "id": "855a2586",
   "metadata": {},
   "source": [
    "### OpenCV"
   ]
  },
  {
   "cell_type": "code",
   "execution_count": 5,
   "id": "8b8545a2",
   "metadata": {},
   "outputs": [
    {
     "name": "stdout",
     "output_type": "stream",
     "text": [
      "Processed 26 photos\n",
      "Time 1.2887721061706543\n",
      "One photo process 0.04956815792964055 seconds\n"
     ]
    }
   ],
   "source": [
    "import cv2\n",
    "\n",
    "i = 0\n",
    "start_time = time.time()\n",
    "for fname in testData.keys():\n",
    "    img_path = os.path.join(dirName, fname)\n",
    "    img = cv2.imread(img_path)\n",
    "    (width, height) = (img.shape[1] // 2, img.shape[0] // 2)\n",
    "    # resize image\n",
    "    img = cv2.resize(img, [width, height], interpolation = cv2.INTER_AREA)\n",
    "    i += 1\n",
    "end_time = time.time() - start_time\n",
    "print_result(end_time, i)"
   ]
  },
  {
   "cell_type": "markdown",
   "id": "2d0b2993",
   "metadata": {},
   "source": [
    "### TurboJPEG"
   ]
  },
  {
   "cell_type": "code",
   "execution_count": 6,
   "id": "8aa4bcb3",
   "metadata": {},
   "outputs": [
    {
     "name": "stdout",
     "output_type": "stream",
     "text": [
      "Processed 26 photos\n",
      "Time 0.6458160877227783\n",
      "One photo process 0.024839080297029935 seconds\n"
     ]
    }
   ],
   "source": [
    "from turbojpeg import TurboJPEG\n",
    "jpeg = TurboJPEG()\n",
    "\n",
    "i = 0\n",
    "start_time = time.time()\n",
    "for fname in testData.keys():\n",
    "    img_path = os.path.join(dirName, fname)\n",
    "    with open(img_path, 'rb') as in_file:\n",
    "        img = jpeg.decode(in_file.read())\n",
    "        img = cv2.resize(img, [width, height], interpolation = cv2.INTER_AREA)\n",
    "    i += 1\n",
    "end_time = time.time() - start_time\n",
    "print_result(end_time, i)"
   ]
  },
  {
   "cell_type": "markdown",
   "id": "2f56e4ee",
   "metadata": {},
   "source": [
    "### TurboJPEG superfast"
   ]
  },
  {
   "cell_type": "code",
   "execution_count": 7,
   "id": "184e840e",
   "metadata": {},
   "outputs": [
    {
     "name": "stdout",
     "output_type": "stream",
     "text": [
      "Processed 26 photos\n",
      "Time 0.48273444175720215\n",
      "One photo process 0.01856670929835393 seconds\n"
     ]
    }
   ],
   "source": [
    "from turbojpeg import TurboJPEG\n",
    "jpeg = TurboJPEG()\n",
    "\n",
    "i = 0\n",
    "start_time = time.time()\n",
    "for fname in testData.keys():\n",
    "    img_path = os.path.join(dirName, fname)\n",
    "    with open(img_path, 'rb') as in_file:\n",
    "        # Only for scaling_factor (13, 8), (7, 4), (3, 8), (1, 2), (2, 1), (15, 8), (3, 4), (5, 8), (5, 4), (1, 1), (1, 8), (1, 4), (9, 8), (3, 2), (7, 8), (11, 8)\n",
    "        img = jpeg.decode(in_file.read(), scaling_factor=(1, 2))\n",
    "    i += 1\n",
    "end_time = time.time() - start_time\n",
    "print_result(end_time, i)"
   ]
  },
  {
   "cell_type": "code",
   "execution_count": null,
   "id": "41c38274",
   "metadata": {},
   "outputs": [],
   "source": []
  }
 ],
 "metadata": {
  "kernelspec": {
   "display_name": "Python ",
   "language": "python",
   "name": "py"
  },
  "language_info": {
   "codemirror_mode": {
    "name": "ipython",
    "version": 3
   },
   "file_extension": ".py",
   "mimetype": "text/x-python",
   "name": "python",
   "nbconvert_exporter": "python",
   "pygments_lexer": "ipython3",
   "version": "3.9.8"
  }
 },
 "nbformat": 4,
 "nbformat_minor": 5
}
