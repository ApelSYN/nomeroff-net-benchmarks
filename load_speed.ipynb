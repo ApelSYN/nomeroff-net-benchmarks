{
 "cells": [
  {
   "cell_type": "markdown",
   "id": "a60562de",
   "metadata": {},
   "source": [
    "# Load photos banchmark\n",
    "Before running benchmark, download the data from the repository https://github.com/ria-com/nomeroff-net/tree/master/banchmarks/images to the images folder"
   ]
  },
  {
   "cell_type": "code",
   "execution_count": 1,
   "id": "89845aea",
   "metadata": {},
   "outputs": [],
   "source": [
    "import time\n",
    "import os\n",
    "import numpy as np"
   ]
  },
  {
   "cell_type": "code",
   "execution_count": 2,
   "id": "398680f0",
   "metadata": {},
   "outputs": [],
   "source": [
    "dirName = \"./images\"\n",
    "testData = {\n",
    "    \"0.jpeg\": [\"AI5255EI\"],\n",
    "    \"1.jpeg\": [\"AT6883CM\"],\n",
    "    \"2.jpeg\": [\"AT1515CK\"],\n",
    "    \"3.jpeg\": [\"BX0578CE\"],\n",
    "    \"4.jpeg\": [\"AC4249CB\"],\n",
    "    \"5.jpeg\": [\"BC3496HC\"],\n",
    "    \"6.jpeg\": [\"BC3496HC\"],\n",
    "    \"7.jpeg\": [\"AO1306CH\"],\n",
    "    \"8.jpeg\": [\"AE1077CO\"],\n",
    "    \"9.jpeg\": [\"AB3391AK\"],\n",
    "    \"10.jpeg\": [\"BE7425CB\"],\n",
    "    \"11.jpeg\": [\"BE7425CB\"],\n",
    "    \"12.jpeg\": [\"AB0680EA\"],\n",
    "    \"13.jpeg\": [\"AB0680EA\"],\n",
    "    \"14.jpeg\": [\"BM1930BM\"],\n",
    "    \"15.jpeg\": [\"AI1382HB\"],\n",
    "    \"16.jpeg\": [\"AB7333BH\"],\n",
    "    \"17.jpeg\": [\"AB7642CT\"],\n",
    "    \"18.jpeg\": [\"AC4921CB\"],\n",
    "    \"19.jpeg\": [\"BC9911BK\"],\n",
    "    \"20.jpeg\": [\"BC7007AK\"],\n",
    "    \"21.jpeg\": [\"AB5649CI\"],\n",
    "    \"22.jpeg\": [\"AX2756EK\"],\n",
    "    \"23.jpeg\": [\"AA7564MX\"],\n",
    "    \"24.jpeg\": [\"AM5696CK\"],\n",
    "    \"25.jpeg\": [\"AM5696CK\"],\n",
    "}"
   ]
  },
  {
   "cell_type": "code",
   "execution_count": 3,
   "id": "60096413",
   "metadata": {},
   "outputs": [],
   "source": [
    "def print_result(end_time, j):\n",
    "    print(f\"Processed {j} photos\")\n",
    "    print(f\"Time {end_time}\")\n",
    "    print(f\"One photo process {end_time/j} seconds\")"
   ]
  },
  {
   "cell_type": "markdown",
   "id": "908f5f96",
   "metadata": {},
   "source": [
    "### Pillow"
   ]
  },
  {
   "cell_type": "code",
   "execution_count": 4,
   "id": "3f232443",
   "metadata": {},
   "outputs": [
    {
     "name": "stdout",
     "output_type": "stream",
     "text": [
      "Processed 26 photos\n",
      "Time 1.5221023559570312\n",
      "One photo process 0.05854239830603966 seconds\n"
     ]
    }
   ],
   "source": [
    "from PIL import Image\n",
    "\n",
    "i = 0\n",
    "start_time = time.time()\n",
    "for fname in testData.keys():\n",
    "    img_path = os.path.join(dirName, fname)\n",
    "    im = Image.open(img_path)\n",
    "    img = np.asarray(im)\n",
    "    i += 1\n",
    "end_time = time.time() - start_time\n",
    "print_result(end_time, i)"
   ]
  },
  {
   "cell_type": "markdown",
   "id": "fadcd337",
   "metadata": {},
   "source": [
    "### OpenCV"
   ]
  },
  {
   "cell_type": "code",
   "execution_count": 5,
   "id": "57f25eea",
   "metadata": {},
   "outputs": [
    {
     "name": "stdout",
     "output_type": "stream",
     "text": [
      "Processed 26 photos\n",
      "Time 1.2894833087921143\n",
      "One photo process 0.04959551187661978 seconds\n"
     ]
    }
   ],
   "source": [
    "import cv2\n",
    "\n",
    "i = 0\n",
    "start_time = time.time()\n",
    "for fname in testData.keys():\n",
    "    img_path = os.path.join(dirName, fname)\n",
    "    img = cv2.imread(img_path)\n",
    "    i += 1\n",
    "end_time = time.time() - start_time\n",
    "print_result(end_time, i)"
   ]
  },
  {
   "cell_type": "markdown",
   "id": "2d0b2993",
   "metadata": {},
   "source": [
    "### TurboJPEG"
   ]
  },
  {
   "cell_type": "code",
   "execution_count": 6,
   "id": "37d72bd9",
   "metadata": {},
   "outputs": [
    {
     "name": "stdout",
     "output_type": "stream",
     "text": [
      "Processed 26 photos\n",
      "Time 0.5764155387878418\n",
      "One photo process 0.022169828414916992 seconds\n"
     ]
    }
   ],
   "source": [
    "from turbojpeg import TurboJPEG\n",
    "jpeg = TurboJPEG()\n",
    "\n",
    "i = 0\n",
    "start_time = time.time()\n",
    "for fname in testData.keys():\n",
    "    img_path = os.path.join(dirName, fname)\n",
    "    with open(img_path, 'rb') as in_file:\n",
    "        img = jpeg.decode(in_file.read())\n",
    "    i += 1\n",
    "end_time = time.time() - start_time\n",
    "print_result(end_time, i)"
   ]
  },
  {
   "cell_type": "code",
   "execution_count": null,
   "id": "184e840e",
   "metadata": {},
   "outputs": [],
   "source": []
  }
 ],
 "metadata": {
  "kernelspec": {
   "display_name": "Python ",
   "language": "python",
   "name": "py"
  },
  "language_info": {
   "codemirror_mode": {
    "name": "ipython",
    "version": 3
   },
   "file_extension": ".py",
   "mimetype": "text/x-python",
   "name": "python",
   "nbconvert_exporter": "python",
   "pygments_lexer": "ipython3",
   "version": "3.9.8"
  }
 },
 "nbformat": 4,
 "nbformat_minor": 5
}